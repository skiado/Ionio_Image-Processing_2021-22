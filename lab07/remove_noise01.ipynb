{
 "cells": [
  {
   "cell_type": "code",
   "execution_count": null,
   "metadata": {},
   "outputs": [],
   "source": [
    "from PIL import Image\n",
    "import numpy as np\n",
    "\n",
    "#im1 = Image.open('parrot_rayleigh.png')\n",
    "im1 = Image.open('parrot_s+p.png')\n",
    "a = np.asarray(im1)\n",
    "#Φίλτρο Αριθμητικού Μέσου\n",
    "b = np.ones((3,3))\n",
    "b = b * (1/9)\n",
    "d = np.ones((a.shape[0]+2,a.shape[1]+2))\n",
    "c = np.ones((a.shape[0]+2,a.shape[1]+2))\n",
    "c[1:-1,1:-1] = a\n",
    "for x in range(1,c.shape[0]-1):\n",
    "    for y in range(1,c.shape[1]-1):\n",
    "        d[x,y] = np.sum(c[x-1:x+2,y-1:y+2]*b)\n",
    "d = d.astype(np.uint8)\n",
    "d = d[1:-1,1:-1]\n",
    "im2 = Image.fromarray(d)\n",
    "im2.show()"
   ]
  },
  {
   "cell_type": "code",
   "execution_count": null,
   "metadata": {},
   "outputs": [],
   "source": [
    "#Φίλτρο Γεωμετρικού Μέσου\n",
    "d = np.ones((a.shape[0]+2,a.shape[1]+2))\n",
    "for x in range(1,c.shape[0]-1):\n",
    "    for y in range(1,c.shape[1]-1):\n",
    "        d[x,y] = (np.prod(c[x-1:x+2,y-1:y+2]))**(1/9)   \n",
    "d = d.astype(np.uint8)\n",
    "d = d[1:-1,1:-1]\n",
    "im2 = Image.fromarray(d)\n",
    "im2.show()"
   ]
  },
  {
   "cell_type": "code",
   "execution_count": null,
   "metadata": {},
   "outputs": [],
   "source": [
    "def harmonic(a):\n",
    "    s = 0\n",
    "    for x in range(a.shape[0]):\n",
    "        for y in range(a.shape[1]):\n",
    "            if a[x,y] > 0:\n",
    "                s += 1/a[x,y]\n",
    "            else:\n",
    "                s += 1\n",
    "    return a.shape[0]*a.shape[1]/s"
   ]
  },
  {
   "cell_type": "code",
   "execution_count": null,
   "metadata": {},
   "outputs": [],
   "source": [
    "#Φίλτρο Αρμονικού Μέσου\n",
    "d = np.ones((a.shape[0]+2,a.shape[1]+2))\n",
    "for x in range(1,c.shape[0]-1):\n",
    "    for y in range(1,c.shape[1]-1):\n",
    "        d[x,y] = harmonic(c[x-1:x+2,y-1:y+2]) \n",
    "d = d.astype(np.uint8)\n",
    "d = d[1:-1,1:-1]\n",
    "im2 = Image.fromarray(d)\n",
    "im2.show()"
   ]
  },
  {
   "cell_type": "code",
   "execution_count": null,
   "metadata": {},
   "outputs": [],
   "source": [
    "#Φίλτρο Median\n",
    "d = np.ones((a.shape[0]+2,a.shape[1]+2))\n",
    "for x in range(1,c.shape[0]-1):\n",
    "    for y in range(1,c.shape[1]-1):\n",
    "        d[x,y] = np.median(c[x-1:x+2,y-1:y+2]) \n",
    "d = d.astype(np.uint8)\n",
    "d = d[1:-1,1:-1]\n",
    "im2 = Image.fromarray(d)\n",
    "im2.show()"
   ]
  },
  {
   "cell_type": "code",
   "execution_count": null,
   "metadata": {},
   "outputs": [],
   "source": [
    "#Φίλτρο Min\n",
    "d = np.ones((a.shape[0]+2,a.shape[1]+2))\n",
    "for x in range(1,c.shape[0]-1):\n",
    "    for y in range(1,c.shape[1]-1):\n",
    "        d[x,y] = np.amin(c[x-1:x+2,y-1:y+2]) \n",
    "d = d.astype(np.uint8)\n",
    "d = d[1:-1,1:-1]\n",
    "im2 = Image.fromarray(d)\n",
    "im2.show()"
   ]
  },
  {
   "cell_type": "code",
   "execution_count": null,
   "metadata": {},
   "outputs": [],
   "source": [
    "#Φίλτρο Max\n",
    "d = np.ones((a.shape[0]+2,a.shape[1]+2))\n",
    "for x in range(1,c.shape[0]-1):\n",
    "    for y in range(1,c.shape[1]-1):\n",
    "        d[x,y] = np.amax(c[x-1:x+2,y-1:y+2]) \n",
    "d = d.astype(np.uint8)\n",
    "d = d[1:-1,1:-1]\n",
    "im2 = Image.fromarray(d)\n",
    "im2.show()"
   ]
  },
  {
   "cell_type": "code",
   "execution_count": null,
   "metadata": {},
   "outputs": [],
   "source": [
    "#Φίλτρο Μέσου Σημείου\n",
    "d = np.ones((a.shape[0]+2,a.shape[1]+2))\n",
    "for x in range(1,c.shape[0]-1):\n",
    "    for y in range(1,c.shape[1]-1):\n",
    "        d[x,y] = (np.amax(c[x-1:x+2,y-1:y+2]) + np.amin(c[x-1:x+2,y-1:y+2])) / 2\n",
    "d = d.astype(np.uint8)\n",
    "d = d[1:-1,1:-1]\n",
    "im2 = Image.fromarray(d)\n",
    "im2.show()"
   ]
  },
  {
   "cell_type": "code",
   "execution_count": null,
   "metadata": {},
   "outputs": [],
   "source": []
  }
 ],
 "metadata": {
  "kernelspec": {
   "display_name": "Python 3",
   "language": "python",
   "name": "python3"
  },
  "language_info": {
   "codemirror_mode": {
    "name": "ipython",
    "version": 3
   },
   "file_extension": ".py",
   "mimetype": "text/x-python",
   "name": "python",
   "nbconvert_exporter": "python",
   "pygments_lexer": "ipython3",
   "version": "3.7.4"
  }
 },
 "nbformat": 4,
 "nbformat_minor": 2
}
