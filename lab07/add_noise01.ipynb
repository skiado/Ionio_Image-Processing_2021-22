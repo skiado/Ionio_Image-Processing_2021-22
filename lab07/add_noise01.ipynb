{
 "cells": [
  {
   "cell_type": "code",
   "execution_count": 3,
   "metadata": {},
   "outputs": [],
   "source": [
    "from PIL import Image\n",
    "import numpy as np\n",
    "\n",
    "im1 = Image.open('parrot.png')\n",
    "a = np.asarray(im1)\n",
    "mean = 0.0   # some constant\n",
    "std = 20.0    # some constant (standard deviation)\n",
    "noisy_img = a + np.random.normal(mean, std, a.shape)\n",
    "b = np.clip(noisy_img, 0, 255)\n",
    "b = b.astype(np.uint8)\n",
    "im2 = Image.fromarray(b)\n",
    "im2.show()\n",
    "im2.save('parrot_gauss.png')"
   ]
  },
  {
   "cell_type": "code",
   "execution_count": 4,
   "metadata": {},
   "outputs": [],
   "source": [
    "noisy_img = a + np.random.rayleigh(30, a.shape)\n",
    "b = np.clip(noisy_img, 0, 255)\n",
    "b = b.astype(np.uint8)\n",
    "im2 = Image.fromarray(b)\n",
    "im2.show()\n",
    "im2.save('parrot_rayleigh.png')"
   ]
  },
  {
   "cell_type": "code",
   "execution_count": 6,
   "metadata": {},
   "outputs": [],
   "source": [
    "noisy_img = a + np.random.gamma(5,10, a.shape)\n",
    "b = np.clip(noisy_img, 0, 255)\n",
    "b = b.astype(np.uint8)\n",
    "im2 = Image.fromarray(b)\n",
    "im2.show()\n",
    "im2.save('parrot_gamma.png')"
   ]
  },
  {
   "cell_type": "code",
   "execution_count": 7,
   "metadata": {},
   "outputs": [],
   "source": [
    "noisy_img = a + np.random.exponential(25, a.shape)\n",
    "b = np.clip(noisy_img, 0, 255)\n",
    "b = b.astype(np.uint8)\n",
    "im2 = Image.fromarray(b)\n",
    "im2.show()\n",
    "im2.save('parrot_exponential.png')"
   ]
  },
  {
   "cell_type": "code",
   "execution_count": 8,
   "metadata": {},
   "outputs": [],
   "source": [
    "noisy_img = a + np.random.uniform(0,80, a.shape)\n",
    "b = np.clip(noisy_img, 0, 255)\n",
    "b = b.astype(np.uint8)\n",
    "im2 = Image.fromarray(b)\n",
    "im2.show()\n",
    "im2.save('parrot_uniform.png')"
   ]
  },
  {
   "cell_type": "code",
   "execution_count": 11,
   "metadata": {},
   "outputs": [],
   "source": [
    "prob = np.random.rand(a.shape[0],a.shape[1])\n",
    "b = np.copy(a)\n",
    "for x in range(a.shape[0]):\n",
    "    for y in range(a.shape[1]):\n",
    "        if prob[x,y] <= 0.05:\n",
    "            b[x,y] = 0\n",
    "        elif 0.05 < prob[x,y] < 0.1 :\n",
    "            b[x,y] = 255\n",
    "b = b.astype(np.uint8)\n",
    "im2 = Image.fromarray(b)\n",
    "im2.show()\n",
    "im2.save('parrot_s+p.png')"
   ]
  },
  {
   "cell_type": "code",
   "execution_count": null,
   "metadata": {},
   "outputs": [],
   "source": []
  }
 ],
 "metadata": {
  "kernelspec": {
   "display_name": "Python 3",
   "language": "python",
   "name": "python3"
  },
  "language_info": {
   "codemirror_mode": {
    "name": "ipython",
    "version": 3
   },
   "file_extension": ".py",
   "mimetype": "text/x-python",
   "name": "python",
   "nbconvert_exporter": "python",
   "pygments_lexer": "ipython3",
   "version": "3.7.4"
  }
 },
 "nbformat": 4,
 "nbformat_minor": 2
}
