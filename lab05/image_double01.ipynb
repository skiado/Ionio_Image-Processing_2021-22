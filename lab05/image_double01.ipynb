{
 "cells": [
  {
   "cell_type": "code",
   "execution_count": null,
   "metadata": {},
   "outputs": [],
   "source": [
    "import numpy as np\n",
    "from PIL import Image\n",
    "import matplotlib.pyplot as plt\n",
    "\n",
    "im1 = Image.open('parrot.png')\n",
    "a = np.array(im1)\n",
    "t = np.array([[2,0],[0,2]])\n",
    "lx,ly = a.shape\n",
    "print(lx,ly)\n",
    "im1.show()\n",
    "b = np.zeros((2*lx,2*ly), dtype=np.int16 )\n",
    "b.shape\n",
    "b = b + 255\n",
    "print(b[0][0])"
   ]
  },
  {
   "cell_type": "code",
   "execution_count": null,
   "metadata": {},
   "outputs": [],
   "source": [
    "for x in range(lx):\n",
    "    for y in range(ly):\n",
    "        axy = np.array([[x],[y]])\n",
    "        bxy = t @ axy\n",
    "        b[bxy[0][0],bxy[1][0]] = a[x][y]\n",
    "im2 = Image.fromarray(b)\n",
    "im2.show()\n",
    "print(im2.getpixel((36,35)))\n",
    "#im2.save('parrot_2.png')"
   ]
  },
  {
   "cell_type": "code",
   "execution_count": null,
   "metadata": {},
   "outputs": [],
   "source": []
  }
 ],
 "metadata": {
  "kernelspec": {
   "display_name": "Python 3",
   "language": "python",
   "name": "python3"
  },
  "language_info": {
   "codemirror_mode": {
    "name": "ipython",
    "version": 3
   },
   "file_extension": ".py",
   "mimetype": "text/x-python",
   "name": "python",
   "nbconvert_exporter": "python",
   "pygments_lexer": "ipython3",
   "version": "3.7.4"
  }
 },
 "nbformat": 4,
 "nbformat_minor": 4
}
