{
 "cells": [
  {
   "cell_type": "code",
   "execution_count": 9,
   "metadata": {},
   "outputs": [
    {
     "name": "stdout",
     "output_type": "stream",
     "text": [
      "xa,ya = 0 0  --> xb,yb = -1 0 --> 4 0\n",
      "xa,ya = 0 1  --> xb,yb = -2 0 --> 3 0\n",
      "xa,ya = 0 2  --> xb,yb = -3 0 --> 2 0\n",
      "xa,ya = 0 3  --> xb,yb = -4 0 --> 1 0\n",
      "xa,ya = 0 4  --> xb,yb = -5 0 --> 0 0\n",
      "xa,ya = 1 0  --> xb,yb = -1 1 --> 4 1\n",
      "xa,ya = 1 1  --> xb,yb = -2 1 --> 3 1\n",
      "xa,ya = 1 2  --> xb,yb = -3 1 --> 2 1\n",
      "xa,ya = 1 3  --> xb,yb = -4 1 --> 1 1\n",
      "xa,ya = 1 4  --> xb,yb = -5 1 --> 0 1\n",
      "xa,ya = 2 0  --> xb,yb = -1 2 --> 4 2\n",
      "xa,ya = 2 1  --> xb,yb = -2 2 --> 3 2\n",
      "xa,ya = 2 2  --> xb,yb = -3 2 --> 2 2\n",
      "xa,ya = 2 3  --> xb,yb = -4 2 --> 1 2\n",
      "xa,ya = 2 4  --> xb,yb = -5 2 --> 0 2\n",
      "xa,ya = 3 0  --> xb,yb = -1 3 --> 4 3\n",
      "xa,ya = 3 1  --> xb,yb = -2 3 --> 3 3\n",
      "xa,ya = 3 2  --> xb,yb = -3 3 --> 2 3\n",
      "xa,ya = 3 3  --> xb,yb = -4 3 --> 1 3\n",
      "xa,ya = 3 4  --> xb,yb = -5 3 --> 0 3\n",
      "xa,ya = 4 0  --> xb,yb = -1 4 --> 4 4\n",
      "xa,ya = 4 1  --> xb,yb = -2 4 --> 3 4\n",
      "xa,ya = 4 2  --> xb,yb = -3 4 --> 2 4\n",
      "xa,ya = 4 3  --> xb,yb = -4 4 --> 1 4\n",
      "xa,ya = 4 4  --> xb,yb = -5 4 --> 0 4\n"
     ]
    }
   ],
   "source": [
    "import numpy as np\n",
    "\n",
    "a = np.array([[1,1,1,1,1],[1,0,0,0,0],[1,1,1,0,0],[1,0,0,0,0],[1,0,0,0,0]])\n",
    "t = np.array([[0,-1,-1],[1,0,0],[0,0,1]])\n",
    "b = np.zeros(a.shape, dtype=np.int16 )\n",
    "for x in range(a.shape[0]):\n",
    "    for y in range(a.shape[1]):\n",
    "        axy = np.array([[x],[y],[1]])\n",
    "        bxy = t @ axy\n",
    "        print('xa,ya =',x,y,' --> xb,yb =',bxy[0][0],bxy[1][0],'-->',(5 + bxy[0][0])%5, (5 + bxy[1][0])%5)\n",
    "        b[int(bxy[0][0]),int(bxy[1][0])] = a[x][y]"
   ]
  },
  {
   "cell_type": "code",
   "execution_count": 11,
   "metadata": {},
   "outputs": [
    {
     "name": "stdout",
     "output_type": "stream",
     "text": [
      "[[1 1 1 1 1]\n",
      " [1 0 0 0 0]\n",
      " [1 1 1 0 0]\n",
      " [1 0 0 0 0]\n",
      " [1 0 0 0 0]]\n",
      "[[1 0 0 0 0]\n",
      " [1 0 0 0 0]\n",
      " [1 0 1 0 0]\n",
      " [1 0 1 0 0]\n",
      " [1 1 1 1 1]]\n"
     ]
    }
   ],
   "source": [
    "print(a)\n",
    "print(b)"
   ]
  },
  {
   "cell_type": "code",
   "execution_count": null,
   "metadata": {},
   "outputs": [],
   "source": []
  }
 ],
 "metadata": {
  "kernelspec": {
   "display_name": "Python 3",
   "language": "python",
   "name": "python3"
  },
  "language_info": {
   "codemirror_mode": {
    "name": "ipython",
    "version": 3
   },
   "file_extension": ".py",
   "mimetype": "text/x-python",
   "name": "python",
   "nbconvert_exporter": "python",
   "pygments_lexer": "ipython3",
   "version": "3.7.4"
  }
 },
 "nbformat": 4,
 "nbformat_minor": 2
}
