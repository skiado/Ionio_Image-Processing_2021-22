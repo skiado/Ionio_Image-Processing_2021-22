{
 "cells": [
  {
   "cell_type": "code",
   "execution_count": null,
   "metadata": {},
   "outputs": [],
   "source": [
    "import matplotlib\n",
    "import numpy as np\n",
    "from PIL import Image\n",
    "from matplotlib import pyplot as plt\n",
    "\n",
    "\n",
    "a = Image.open('parrot.png')\n",
    "a.show()\n",
    "h = np.histogram(a,bins=256)[0]\n",
    "print(h)\n",
    "h1 = plt.plot(h)\n",
    "plt.show()"
   ]
  },
  {
   "cell_type": "code",
   "execution_count": null,
   "metadata": {},
   "outputs": [],
   "source": [
    "b = Image.open('parrot-255.png')\n",
    "b.show()\n",
    "h2 = np.histogram(b,bins=256)[0]\n",
    "print(h2)\n",
    "h2 = plt.plot(h2)\n",
    "plt.show()"
   ]
  },
  {
   "cell_type": "code",
   "execution_count": null,
   "metadata": {},
   "outputs": [],
   "source": [
    "c = Image.open('cat1.jpg')\n",
    "c.show()\n",
    "h3 = np.histogram(c,bins=256)[0]\n",
    "print(h3)\n",
    "histo = plt.plot(h3)\n",
    "plt.show()"
   ]
  },
  {
   "cell_type": "code",
   "execution_count": null,
   "metadata": {},
   "outputs": [],
   "source": [
    "for x in range(c.size[0]):\n",
    "    for y in range(c.size[1]):\n",
    "        if c.getpixel((x,y))[0] <= 55:\n",
    "            c.putpixel((x,y),0)\n",
    "c.show()\n",
    "h4 = np.histogram(c,bins=256)[0]\n",
    "print(h4)\n",
    "plt.plot(h4[1:])\n",
    "plt.show()"
   ]
  },
  {
   "cell_type": "code",
   "execution_count": null,
   "metadata": {},
   "outputs": [],
   "source": [
    "from skimage import io\n",
    "\n",
    "c5 = io.imread('False01.jpg')\n",
    "plt.imshow(c5 , cmap='gray', vmin=0, vmax=255)\n",
    "h5 = np.histogram(c5,bins=256)\n",
    "histo = plt.figure()\n",
    "plt.plot(h5[0])"
   ]
  },
  {
   "cell_type": "code",
   "execution_count": null,
   "metadata": {},
   "outputs": [],
   "source": []
  }
 ],
 "metadata": {
  "kernelspec": {
   "display_name": "Python 3",
   "language": "python",
   "name": "python3"
  },
  "language_info": {
   "codemirror_mode": {
    "name": "ipython",
    "version": 3
   },
   "file_extension": ".py",
   "mimetype": "text/x-python",
   "name": "python",
   "nbconvert_exporter": "python",
   "pygments_lexer": "ipython3",
   "version": "3.7.4"
  }
 },
 "nbformat": 4,
 "nbformat_minor": 4
}
