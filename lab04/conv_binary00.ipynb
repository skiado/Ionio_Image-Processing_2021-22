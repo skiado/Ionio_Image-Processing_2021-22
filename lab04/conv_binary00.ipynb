{
 "cells": [
  {
   "cell_type": "code",
   "execution_count": 1,
   "metadata": {},
   "outputs": [],
   "source": [
    "from PIL import Image\n",
    "\n",
    "def conv_binary1(im,t):\n",
    "    im_b = Image.new('1',im.size)\n",
    "    for x in range(im.size[0]):\n",
    "        for y in range(im.size[1]):\n",
    "            if im.getpixel((x,y)) <= t:\n",
    "                im_b.putpixel((x,y),1)\n",
    "    return im_b"
   ]
  },
  {
   "cell_type": "code",
   "execution_count": 2,
   "metadata": {},
   "outputs": [],
   "source": [
    "def conv_binary2(im,t1,t2):\n",
    "    im_b = Image.new('1',im.size)\n",
    "    for x in range(im.size[0]):\n",
    "        for y in range(im.size[1]):\n",
    "            if t1 <= im.getpixel((x,y)) <= t2:\n",
    "                im_b.putpixel((x,y),1)\n",
    "    return im_b"
   ]
  },
  {
   "cell_type": "code",
   "execution_count": 3,
   "metadata": {},
   "outputs": [],
   "source": [
    "im1 = Image.open('parrot.png')\n",
    "im1.show()\n",
    "im2 = conv_binary1(im1,85)\n",
    "im2.show()"
   ]
  },
  {
   "cell_type": "code",
   "execution_count": 4,
   "metadata": {},
   "outputs": [],
   "source": [
    "im3 = conv_binary2(im1,100,200)\n",
    "im3.show()"
   ]
  },
  {
   "cell_type": "code",
   "execution_count": null,
   "metadata": {},
   "outputs": [],
   "source": []
  }
 ],
 "metadata": {
  "kernelspec": {
   "display_name": "Python 3",
   "language": "python",
   "name": "python3"
  },
  "language_info": {
   "codemirror_mode": {
    "name": "ipython",
    "version": 3
   },
   "file_extension": ".py",
   "mimetype": "text/x-python",
   "name": "python",
   "nbconvert_exporter": "python",
   "pygments_lexer": "ipython3",
   "version": "3.7.4"
  }
 },
 "nbformat": 4,
 "nbformat_minor": 2
}
