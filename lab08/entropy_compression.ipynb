{
 "cells": [
  {
   "cell_type": "code",
   "execution_count": null,
   "metadata": {},
   "outputs": [],
   "source": [
    "#simple paradigm for compression using entropy\n",
    "from PIL import Image\n",
    "import numpy as np\n",
    "import matplotlib.pyplot as plt\n",
    "\n",
    "%matplotlib inline\n",
    "\n",
    "im1 = Image.open('im1.jpg')\n",
    "a = np.array(im1)\n",
    "print(a.shape)\n",
    "plt.imshow(a, cmap='gray', vmin=0, vmax=255)"
   ]
  },
  {
   "cell_type": "code",
   "execution_count": null,
   "metadata": {},
   "outputs": [],
   "source": [
    "def part16(a):\n",
    "    x , y =  a.shape[0]//4, a.shape[1]//4\n",
    "    part = {}\n",
    "    for i in range(4):\n",
    "        for j in range(4):\n",
    "            part[(4*i)+j] = [[i*x,j*y],[(i+1)*x,(j+1)*y]]\n",
    "    return part"
   ]
  },
  {
   "cell_type": "code",
   "execution_count": null,
   "metadata": {},
   "outputs": [],
   "source": [
    "part_coor = part16(a)\n",
    "print(part_coor)"
   ]
  },
  {
   "cell_type": "code",
   "execution_count": null,
   "metadata": {},
   "outputs": [],
   "source": [
    "part = []\n",
    "for i in range(16):\n",
    "    x = [part_coor[i][0][0],part_coor[i][1][0]]\n",
    "    y = [part_coor[i][0][1],part_coor[i][1][1]]\n",
    "    part.append(a[x[0]:x[1],y[0]:y[1]])"
   ]
  },
  {
   "cell_type": "code",
   "execution_count": null,
   "metadata": {},
   "outputs": [],
   "source": [
    "plt.imshow(part[15], cmap='gray', vmin=0, vmax=255)"
   ]
  },
  {
   "cell_type": "code",
   "execution_count": null,
   "metadata": {},
   "outputs": [],
   "source": [
    "def pdf(ar):\n",
    "    unique, counts = np.unique(ar, return_counts=True)\n",
    "    p = dict(zip(unique, counts))\n",
    "    total = ar.shape[0] * ar.shape[1]\n",
    "    for i in p.keys():\n",
    "        p[i] = p[i] / total\n",
    "    return p"
   ]
  },
  {
   "cell_type": "code",
   "execution_count": null,
   "metadata": {},
   "outputs": [],
   "source": [
    "def h(im):\n",
    "    p = pdf(im)\n",
    "    h = 0\n",
    "    for i in p.keys():\n",
    "        h -= p[i] * np.log2(p[i])\n",
    "    return h"
   ]
  },
  {
   "cell_type": "code",
   "execution_count": null,
   "metadata": {},
   "outputs": [],
   "source": [
    "part_entropy = []\n",
    "for i in range(16):\n",
    "    part_entropy.append(h(part[i]))\n",
    "    print('h(',\"{:2d}\".format(i),') = ',\"{:6.4f}\".format(part_entropy[i]),\"{:3d}\".format(np.max(part[i])), '-',\"{:2d}\".format(np.min(part[i])),'mean =',\"{:6.2f}\".format(np.mean(part[i])))"
   ]
  },
  {
   "cell_type": "code",
   "execution_count": null,
   "metadata": {},
   "outputs": [],
   "source": [
    "plt.imshow(part[3], cmap='gray', vmin=0, vmax=255)"
   ]
  },
  {
   "cell_type": "code",
   "execution_count": null,
   "metadata": {},
   "outputs": [],
   "source": [
    "for i in range(16):\n",
    "    if part_entropy[i] < 2:\n",
    "        part[i][:] = np.mean(part[i])\n",
    "        print(i)"
   ]
  },
  {
   "cell_type": "code",
   "execution_count": null,
   "metadata": {},
   "outputs": [],
   "source": [
    "plt.imshow(part[3], cmap='gray', vmin=0, vmax=255)\n",
    "print(part[3][0][0])"
   ]
  },
  {
   "cell_type": "code",
   "execution_count": null,
   "metadata": {},
   "outputs": [],
   "source": [
    "plt.imshow(a, cmap='gray', vmin=0, vmax=255)"
   ]
  },
  {
   "cell_type": "code",
   "execution_count": null,
   "metadata": {},
   "outputs": [],
   "source": [
    "def scale2(a):\n",
    "    for i in range(0,a.shape[0],2):\n",
    "        for j in range(0,a.shape[1],2):\n",
    "            a[i:i+2,j:j+2] = np.sum(a[i:i+2,j:j+2])//4  #μέσος όρος από (i,j) ως (i+1,j+1)"
   ]
  },
  {
   "cell_type": "code",
   "execution_count": null,
   "metadata": {},
   "outputs": [],
   "source": [
    "for i in range(16):\n",
    "    if 2 < part_entropy[i] < 4:\n",
    "        scale2(part[i])\n",
    "        print(i)"
   ]
  },
  {
   "cell_type": "code",
   "execution_count": null,
   "metadata": {},
   "outputs": [],
   "source": [
    "plt.imshow(part[0], cmap='gray', vmin=0, vmax=255)"
   ]
  },
  {
   "cell_type": "code",
   "execution_count": null,
   "metadata": {},
   "outputs": [],
   "source": [
    "plt.imshow(a, cmap='gray', vmin=0, vmax=255)"
   ]
  },
  {
   "cell_type": "code",
   "execution_count": null,
   "metadata": {},
   "outputs": [],
   "source": [
    "orig = a.shape[0]*a.shape[1]\n",
    "print('original image = ',orig,'bytes')\n",
    "comp = 7 + 5 * ((a.shape[0]*a.shape[1]//16)/4) + 4 * (a.shape[0]*a.shape[1]//16)\n",
    "print('compressed image = ',comp,'bytes')\n",
    "c = orig/comp\n",
    "r = 1 - (1/c)\n",
    "print('Λόγος συμπίεσης R = ',r)"
   ]
  },
  {
   "cell_type": "code",
   "execution_count": null,
   "metadata": {},
   "outputs": [],
   "source": []
  }
 ],
 "metadata": {
  "kernelspec": {
   "display_name": "Python 3",
   "language": "python",
   "name": "python3"
  },
  "language_info": {
   "codemirror_mode": {
    "name": "ipython",
    "version": 3
   },
   "file_extension": ".py",
   "mimetype": "text/x-python",
   "name": "python",
   "nbconvert_exporter": "python",
   "pygments_lexer": "ipython3",
   "version": "3.7.4"
  }
 },
 "nbformat": 4,
 "nbformat_minor": 4
}
