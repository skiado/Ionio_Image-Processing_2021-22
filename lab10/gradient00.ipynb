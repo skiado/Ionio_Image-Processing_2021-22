{
 "cells": [
  {
   "cell_type": "code",
   "execution_count": null,
   "metadata": {},
   "outputs": [],
   "source": [
    "from PIL import Image\n",
    "import numpy as np\n",
    "import matplotlib.pyplot as plt\n",
    "\n",
    "%matplotlib inline\n",
    "\n",
    "#im1 = Image.open('akmes01_g.png')\n",
    "im1 = Image.open('ducati_b.png')\n",
    "a = np.array(im1)\n",
    "a = a / 255 #Για να μετατρέψουμε τις τιμές του 255 σε 1\n",
    "#print(a)\n",
    "#Πυρήνeς 1ης παραγώγου\n",
    "der_x = np.array([[0,0,0],[-1,0,1],[0,0,0]])\n",
    "der_y = np.array([[0,-1,0],[0,0,0],[0,1,0]])\n",
    "der_xy = np.array([[0,-1,0],[-1,0,1],[0,1,0]])\n",
    "#Πυρήνeς 2ης παραγώγου\n",
    "der_2a = np.array([[0,1,0],[1,-4,1],[0,1,0]]) #Για οριζόντια και κάθετη διεύθυνση\n",
    "der_2b = np.array([[1,0,1],[0,-4,0],[1,0,1]]) #Για διεύθυνση 45 και -45 μοίρες\n",
    "der_all = np.array([[1,1,1],[1,-8,1],[1,1,1]])\n",
    "#Πυρήνες Prewitt\n",
    "pre_x = np.array([[-1,-1,-1],[0,0,0],[1,1,1]])\n",
    "pre_y = np.array([[-1,0,1],[-1,0,1],[-1,0,1]])\n",
    "#Πυρήνες Sobel\n",
    "sob_x = np.array([[-1,-2,-1],[0,0,0],[1,2,1]])\n",
    "sob_y = np.array([[-1,0,1],[-2,0,2],[-1,0,1]])\n",
    "plt.imshow(a, cmap='gray', vmin=0, vmax=1)"
   ]
  },
  {
   "cell_type": "code",
   "execution_count": null,
   "metadata": {},
   "outputs": [],
   "source": [
    "def convolution(a,b):\n",
    "    c = np.ones((a.shape[0]+2,a.shape[1]+2))\n",
    "    d = np.zeros(a.shape)\n",
    "    c[1:-1,1:-1] = a\n",
    "    for x in range(1,c.shape[0]-1):\n",
    "        for y in range(1,c.shape[1]-1):\n",
    "            d[x-1,y-1] = np.sum(c[x-1:x+2,y-1:y+2]*b)\n",
    "    return d.astype(np.uint8)"
   ]
  },
  {
   "cell_type": "code",
   "execution_count": null,
   "metadata": {},
   "outputs": [],
   "source": [
    "im_der_x = convolution(a,der_x)\n",
    "plt.imshow(im_der_x, cmap='gray', vmin=0, vmax=1)"
   ]
  },
  {
   "cell_type": "code",
   "execution_count": null,
   "metadata": {},
   "outputs": [],
   "source": [
    "im_der_y = convolution(a,der_y)\n",
    "plt.imshow(im_der_y, cmap='gray', vmin=0, vmax=1)"
   ]
  },
  {
   "cell_type": "code",
   "execution_count": null,
   "metadata": {},
   "outputs": [],
   "source": [
    "im_der_xy = convolution(a,der_xy)\n",
    "plt.imshow(im_der_xy, cmap='gray', vmin=0, vmax=1)"
   ]
  },
  {
   "cell_type": "code",
   "execution_count": null,
   "metadata": {},
   "outputs": [],
   "source": [
    "im_der_2a = convolution(a,der_2a)\n",
    "plt.imshow(im_der_2a, cmap='gray', vmin=0, vmax=1)"
   ]
  },
  {
   "cell_type": "code",
   "execution_count": null,
   "metadata": {},
   "outputs": [],
   "source": [
    "im_der_2b = convolution(a,der_2b)\n",
    "plt.imshow(im_der_2b, cmap='gray', vmin=0, vmax=1)"
   ]
  },
  {
   "cell_type": "code",
   "execution_count": null,
   "metadata": {},
   "outputs": [],
   "source": [
    "im_der_all = convolution(a,der_all)\n",
    "plt.imshow(im_der_all, cmap='gray', vmin=0, vmax=1)"
   ]
  },
  {
   "cell_type": "code",
   "execution_count": null,
   "metadata": {},
   "outputs": [],
   "source": [
    "im_pre_x = convolution(a,pre_x)\n",
    "plt.imshow(im_pre_x, cmap='gray', vmin=0, vmax=1)"
   ]
  },
  {
   "cell_type": "code",
   "execution_count": null,
   "metadata": {},
   "outputs": [],
   "source": [
    "im_pre_y = convolution(a,pre_y)\n",
    "plt.imshow(im_pre_y, cmap='gray', vmin=0, vmax=1)"
   ]
  },
  {
   "cell_type": "code",
   "execution_count": null,
   "metadata": {},
   "outputs": [],
   "source": [
    "im_pre_all = im_pre_x + im_pre_y\n",
    "plt.imshow(im_pre_all, cmap='gray', vmin=0, vmax=1)"
   ]
  },
  {
   "cell_type": "code",
   "execution_count": null,
   "metadata": {},
   "outputs": [],
   "source": [
    "im_sob_x = convolution(a,sob_x)\n",
    "plt.imshow(im_sob_x, cmap='gray', vmin=0, vmax=1)"
   ]
  },
  {
   "cell_type": "code",
   "execution_count": null,
   "metadata": {},
   "outputs": [],
   "source": [
    "im_sob_y = convolution(a,sob_y)\n",
    "plt.imshow(im_sob_y, cmap='gray', vmin=0, vmax=1)"
   ]
  },
  {
   "cell_type": "code",
   "execution_count": null,
   "metadata": {},
   "outputs": [],
   "source": [
    "im_sob_all = im_sob_x + im_sob_y\n",
    "plt.imshow(im_sob_all, cmap='gray', vmin=0, vmax=1)"
   ]
  },
  {
   "cell_type": "code",
   "execution_count": null,
   "metadata": {},
   "outputs": [],
   "source": []
  }
 ],
 "metadata": {
  "kernelspec": {
   "display_name": "Python 3",
   "language": "python",
   "name": "python3"
  },
  "language_info": {
   "codemirror_mode": {
    "name": "ipython",
    "version": 3
   },
   "file_extension": ".py",
   "mimetype": "text/x-python",
   "name": "python",
   "nbconvert_exporter": "python",
   "pygments_lexer": "ipython3",
   "version": "3.7.4"
  }
 },
 "nbformat": 4,
 "nbformat_minor": 2
}
